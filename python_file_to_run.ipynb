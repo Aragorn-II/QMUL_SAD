{
 "cells": [
  {
   "cell_type": "markdown",
   "metadata": {},
   "source": [
    "# QMUL Careers Team Python Script\n",
    "This is a detailed guide on how to run this programme.\n"
   ]
  },
  {
   "cell_type": "markdown",
   "metadata": {},
   "source": [
    "## Excel File Housekeeping"
   ]
  },
  {
   "cell_type": "markdown",
   "metadata": {},
   "source": [
    "\n",
    "\n",
    "We need the excel workbook that the programme will use, and within that the excel spreadsheet with the student information. \n",
    "\n",
    "Please name the file: <b>'applications.xlsx'</b> with the application information on a spreadsheet called: <b>data </b> and save it on your computer.\n",
    "\n",
    "\n",
    "It is really important that the column headers which are used for sorting are named correctly. Before you upload the spreadsheet please ensure these columns match these headers, you can paste them into the spreadsheet as they appear below:\n",
    "\n",
    "student number <br>\n",
    "year of study<br>\n",
    "gender<br>\n",
    "faculty<br>\n",
    "total <i> (referring to total score) </i><br>\n",
    "course<br>\n",
    "personality type<br>\n",
    "\n",
    "The video below shows how to add this to the programme."
   ]
  },
  {
   "cell_type": "markdown",
   "metadata": {},
   "source": [
    "Each text box describe what the code does in the cell below it."
   ]
  },
  {
   "cell_type": "markdown",
   "metadata": {},
   "source": [
    "The first cell imports some of the software that the programme needs, if you click the small play button above, or press Shift and Enter, it will run the cell."
   ]
  },
  {
   "cell_type": "code",
   "execution_count": null,
   "metadata": {},
   "outputs": [],
   "source": [
    "import pandas as pd\n",
    "import openpyxl\n",
    "import numpy as np\n",
    "import os\n",
    "import ipywidgets"
   ]
  },
  {
   "cell_type": "code",
   "execution_count": null,
   "metadata": {},
   "outputs": [],
   "source": [
    "from IPython.display import Video; from ipywidgets import interactive, IntSlider\n",
    "\n",
    "vid = Video(filename=\"media/add_applications.mov\",data=\"\", width=800, height = 600)\n",
    "display(vid)"
   ]
  },
  {
   "cell_type": "markdown",
   "metadata": {},
   "source": [
    "Next, point the programme at the excel sheet just uploaded."
   ]
  },
  {
   "cell_type": "code",
   "execution_count": null,
   "metadata": {},
   "outputs": [],
   "source": [
    "def get_sheet():\n",
    "    for file in os.listdir('.'):\n",
    "        if file.endswith(\"applications.xlsx\"):\n",
    "            myfile = file\n",
    "            print(f'{file} has been selected.')\n",
    "        else:\n",
    "            pass           \n",
    "    try:\n",
    "        return myfile\n",
    "    except:\n",
    "        print('No file has been uploaded')\n",
    "    \n",
    "filename = get_sheet()"
   ]
  },
  {
   "cell_type": "markdown",
   "metadata": {},
   "source": [
    "Read the spreadsheet in, and perform some data cleaning."
   ]
  },
  {
   "cell_type": "code",
   "execution_count": null,
   "metadata": {},
   "outputs": [],
   "source": [
    "df = pd.read_excel(filename,\"data\")\n",
    "for i in df.columns:\n",
    "    df.rename(columns={i:i.lower()}, inplace=True)\n",
    "\n",
    "criteria = [ \n",
    "'student number',\n",
    "'year of study',\n",
    "'gender',\n",
    "'faculty',\n",
    "'total',\n",
    "'course',\n",
    "'personality type']"
   ]
  },
  {
   "cell_type": "markdown",
   "metadata": {},
   "source": [
    "Please use the dropdown menu to select the criteria to sort the groups."
   ]
  },
  {
   "cell_type": "code",
   "execution_count": null,
   "metadata": {},
   "outputs": [],
   "source": [
    "mywidge1 = ipywidgets.widgets.SelectMultiple(\n",
    "    options=criteria,\n",
    "    value=['total'],\n",
    "    rows=len(criteria),\n",
    "    disabled=False\n",
    ")\n",
    "\n",
    "class SelectMultipleInteract(ipywidgets.widgets.HBox):\n",
    "\n",
    "    def __init__(self):\n",
    "        self.W1 = ipywidgets.widgets.SelectMultiple(\n",
    "        options=criteria,\n",
    "        value=['total'],\n",
    "        rows=len(criteria),\n",
    "        disabled=False\n",
    ")\n",
    "\n",
    "        self.selectors = [self.W1]\n",
    "        super().__init__(children=self.selectors)\n",
    "        self._set_observes()\n",
    "\n",
    "    def _set_observes(self):\n",
    "        for widg in self.selectors:\n",
    "            widg.observe(self._observed_function, names='value')\n",
    "\n",
    "    def _observed_function(self, widg):\n",
    "        for widg in self.selectors:\n",
    "            # print(widg.get_interact_value())\n",
    "            return list(widg.get_interact_value())\n",
    "\n",
    "mywidge = SelectMultipleInteract()\n",
    "mywidge"
   ]
  },
  {
   "cell_type": "code",
   "execution_count": null,
   "metadata": {},
   "outputs": [],
   "source": [
    "options = mywidge._observed_function(mywidge1)\n",
    "for_sorting = ['total']\n",
    "for_sorting = for_sorting+[x for x in options if x != 'total']\n",
    "print(f'The algorithm will sort using {for_sorting} from left to right')"
   ]
  },
  {
   "cell_type": "markdown",
   "metadata": {},
   "source": [
    "Any missing scores will be replaced with the average score of the dataset."
   ]
  },
  {
   "cell_type": "code",
   "execution_count": null,
   "metadata": {},
   "outputs": [],
   "source": [
    "df['total'].fillna(df['total'].mean(), inplace=True)"
   ]
  },
  {
   "cell_type": "markdown",
   "metadata": {},
   "source": [
    "Some exploratory data analysis in the next 2 cells"
   ]
  },
  {
   "cell_type": "code",
   "execution_count": null,
   "metadata": {},
   "outputs": [],
   "source": [
    "df['gender'].value_counts()"
   ]
  },
  {
   "cell_type": "code",
   "execution_count": null,
   "metadata": {},
   "outputs": [],
   "source": [
    "df['year of study'].value_counts()"
   ]
  },
  {
   "cell_type": "markdown",
   "metadata": {},
   "source": [
    "Take only the columns important to establishing the groups. "
   ]
  },
  {
   "cell_type": "code",
   "execution_count": null,
   "metadata": {},
   "outputs": [],
   "source": [
    "group_df = df[criteria]"
   ]
  },
  {
   "cell_type": "code",
   "execution_count": null,
   "metadata": {},
   "outputs": [],
   "source": [
    "group_df = group_df.assign(groupno='')\n"
   ]
  },
  {
   "cell_type": "markdown",
   "metadata": {},
   "source": [
    "\n",
    "## The Sorting Algorithm"
   ]
  },
  {
   "cell_type": "code",
   "execution_count": null,
   "metadata": {},
   "outputs": [],
   "source": [
    "def assign_group(df):\n",
    "    df.sort_values(by=for_sorting, ascending=False, inplace=True)\n",
    "    count = 1\n",
    "    up = True\n",
    "    for i,row in group_df.iterrows():\n",
    "\n",
    "        if count <= round(len(df)/5,0) and up == True:\n",
    "            df.at[i,'groupno'] = count\n",
    "            count += 1\n",
    "\n",
    "        elif count > round(len(df)/5,0) and up == True:\n",
    "            df.at[i,'groupno'] = count-1\n",
    "            count-=1\n",
    "            up = False\n",
    "\n",
    "        if count > 1 and up == False:\n",
    "            df.at[i,'groupno'] = count\n",
    "            count -= 1\n",
    "            \n",
    "        elif count == 1 and up == False:\n",
    "            df.at[i,'groupno'] = count\n",
    "            up = True\n",
    "    \n",
    "    return df\n",
    "\n",
    "assigned = assign_group(group_df)\n",
    "\n",
    "    "
   ]
  },
  {
   "cell_type": "markdown",
   "metadata": {},
   "source": [
    "## Data Analysis"
   ]
  },
  {
   "cell_type": "code",
   "execution_count": null,
   "metadata": {},
   "outputs": [],
   "source": [
    "assigned.head()"
   ]
  },
  {
   "cell_type": "code",
   "execution_count": null,
   "metadata": {},
   "outputs": [],
   "source": [
    "assigned.groupby(['groupno'])[['total']].mean().round(2).min()"
   ]
  },
  {
   "cell_type": "code",
   "execution_count": null,
   "metadata": {},
   "outputs": [],
   "source": [
    "assigned.pivot_table(index=['groupno'], columns=['year of study'], aggfunc='size', fill_value=0)\n"
   ]
  },
  {
   "cell_type": "code",
   "execution_count": null,
   "metadata": {},
   "outputs": [],
   "source": [
    "assigned.pivot_table(index=['groupno'], columns=['gender'], aggfunc='size', fill_value=0)\n"
   ]
  },
  {
   "cell_type": "markdown",
   "metadata": {},
   "source": [
    "### Create a new spreadsheet to download"
   ]
  },
  {
   "cell_type": "code",
   "execution_count": null,
   "metadata": {},
   "outputs": [],
   "source": [
    "subset = assigned[['student number','groupno']]\n",
    "\n",
    "final = pd.merge(df,subset, how='inner', on='student number')\n",
    "\n"
   ]
  },
  {
   "cell_type": "code",
   "execution_count": null,
   "metadata": {},
   "outputs": [],
   "source": [
    "final.to_excel(\"grouped_student_applications.xlsx\",sheet_name='Grouped Students') "
   ]
  },
  {
   "cell_type": "code",
   "execution_count": null,
   "metadata": {},
   "outputs": [],
   "source": [
    "from IPython.display import Video; from ipywidgets import interactive, IntSlider\n",
    "\n",
    "vid = Video(filename=\"media/download_file.mov\",data=\"\", width=800, height = 600)\n",
    "display(vid)"
   ]
  },
  {
   "cell_type": "markdown",
   "metadata": {},
   "source": [
    "## Make sure you download your new spreadsheet, you can copy and paste it into your previous working document."
   ]
  }
 ],
 "metadata": {
  "interpreter": {
   "hash": "b9f9f96381215cdc1f58293df26af2bc2df5e1593a1ebac2eacc36573c706eeb"
  },
  "kernelspec": {
   "display_name": "Python 3",
   "language": "python",
   "name": "python3"
  },
  "language_info": {
   "codemirror_mode": {
    "name": "ipython",
    "version": 3
   },
   "file_extension": ".py",
   "mimetype": "text/x-python",
   "name": "python",
   "nbconvert_exporter": "python",
   "pygments_lexer": "ipython3",
   "version": "3.9.7"
  }
 },
 "nbformat": 4,
 "nbformat_minor": 2
}
