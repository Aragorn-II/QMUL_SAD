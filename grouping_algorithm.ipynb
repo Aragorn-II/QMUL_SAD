{
 "cells": [
  {
   "cell_type": "markdown",
   "metadata": {},
   "source": [
    "# QMUL Careers Team Python Script\n",
    "### A detailed guide on how to run this programme.\n",
    "\n"
   ]
  },
  {
   "cell_type": "markdown",
   "metadata": {},
   "source": [
    "Each text box describe what the code does in the cell below it."
   ]
  },
  {
   "cell_type": "markdown",
   "metadata": {},
   "source": [
    "The first cell imports some of the software that the programme needs, if you click the small play button above, or press Shift and Enter, it will run the cell."
   ]
  },
  {
   "cell_type": "code",
   "execution_count": 3,
   "metadata": {},
   "outputs": [],
   "source": [
    "import pandas as pd\n",
    "import openpyxl\n",
    "import numpy as np\n",
    "import os\n",
    "import ipywidgets as widgets"
   ]
  },
  {
   "cell_type": "markdown",
   "metadata": {},
   "source": [
    "We need the excel workbook that the programme will use, and within that the excel spreadsheet with the student information. Please name the spreadsheet with the application information: \"data\" and save it on your computer.\n",
    "\n",
    "The video below shows how to add this to the programme."
   ]
  },
  {
   "cell_type": "code",
   "execution_count": 4,
   "metadata": {},
   "outputs": [
    {
     "data": {
      "text/html": [
       "<video src=\"media/add_applications.mov\" controls  width=\"800\"  height=\"600\">\n",
       "      Your browser does not support the <code>video</code> element.\n",
       "    </video>"
      ],
      "text/plain": [
       "<IPython.core.display.Video object>"
      ]
     },
     "metadata": {},
     "output_type": "display_data"
    }
   ],
   "source": [
    "from IPython.display import Video; from ipywidgets import interactive, IntSlider\n",
    "\n",
    "vid = Video(filename=\"media/add_applications.mov\",data=\"\", width=800, height = 600)\n",
    "display(vid)\n",
    "\n",
    "# enter sorting priority\n"
   ]
  },
  {
   "cell_type": "markdown",
   "metadata": {},
   "source": [
    "Next, point the programme at the excel sheet just uploaded."
   ]
  },
  {
   "cell_type": "code",
   "execution_count": 7,
   "metadata": {},
   "outputs": [
    {
     "name": "stdout",
     "output_type": "stream",
     "text": [
      "groups_assigned.xlsx has been selected.\n"
     ]
    }
   ],
   "source": [
    "def get_sheet():\n",
    "    for file in os.listdir('.'):\n",
    "        if file.endswith(\".xlsx\"):\n",
    "            myfile = file\n",
    "            print(f'{file} has been selected.')            \n",
    "    try:\n",
    "        return myfile\n",
    "    except:\n",
    "        print('There is no file uploaded')\n",
    "    \n",
    "\n",
    "filename = get_sheet()"
   ]
  },
  {
   "cell_type": "markdown",
   "metadata": {},
   "source": [
    "Read the spreadsheet in, and perform some data cleaning."
   ]
  },
  {
   "cell_type": "code",
   "execution_count": 13,
   "metadata": {},
   "outputs": [
    {
     "name": "stdout",
     "output_type": "stream",
     "text": [
      "allocation\n",
      "id\n",
      "student number\n",
      "first name\n",
      "last name\n",
      "email\n",
      "telephone\n",
      "course\n",
      "department\n",
      "faculty\n",
      "student type\n",
      "year of study\n",
      "fee status\n",
      "nationality\n",
      "gender\n",
      "bursary holder\n",
      "previous round of scp?\n",
      "scp will run as a mixture of face to face and online learning. please indicate which format you can participate in and we will do our best to match you with an appropriate team and project\n",
      "scp - which country will you be located in for the duration of the programme wednesday 26th january - wednesday 13th april?\n",
      "scp - you are required to be available every wednesday afternoon (2pm to 6pm) for the duration of the programme. will you be available on wednesday afternoons?\n",
      "q1 - please explain what has motivated you to take part in this round of the scp programme\n",
      "q2 - please detail three skills which you can bring to a scp team. give examples which clearly evidence you have these skills.\n",
      "q3 - there are 5 of you working together on a team project and you are presenting to the client in 2 weeks. one member of your team is not doing their fair share of work or responding to emails. what would you do?\n",
      "q4 - think of a time when you were given a problem to solve, but didn’t have all the necessary information you needed.what was the situation? what actions did you take to try and solve this and why? what was the end result? please note the example you use can be from either a personal or work-related experience\n",
      "total\n",
      "comments\n",
      "marker\n",
      "personality type\n",
      "groupno\n"
     ]
    }
   ],
   "source": [
    "df = pd.read_excel(filename,\"data\")\n",
    "for i in df.columns:\n",
    "    df.rename(columns={i:i.lower()}, inplace=True)\n",
    "    print(i)"
   ]
  },
  {
   "cell_type": "markdown",
   "metadata": {},
   "source": [
    "Enter the fields that you would like to prioritise. Each field you add will be used to sort the groups.\n",
    "\n",
    "To stop running the cell type <b>'exit'</b> in the input box."
   ]
  },
  {
   "cell_type": "code",
   "execution_count": 15,
   "metadata": {},
   "outputs": [
    {
     "name": "stdout",
     "output_type": "stream",
     "text": [
      "gender will be used in the sorting algorithm. It will be priority number 2\n",
      "You have exited, your sorting columns are ['gender'].\n"
     ]
    }
   ],
   "source": [
    "def add_cols():\n",
    "    cols_to_sort = []\n",
    "    count = 2\n",
    "    while True:\n",
    "        col = input('Enter the column you would like to add to the sorting algorithm, if there are no more type exit: ')\n",
    "        if col.lower() == 'exit':\n",
    "            [print(f'You have exited, your sorting columns are {str(cols_to_sort)}.')]\n",
    "            break\n",
    "        elif col in cols_to_sort:\n",
    "            print('This column has already been added, please add another column or type exit to stop the programme.')\n",
    "        elif col in df.columns:\n",
    "            cols_to_sort.append(col)\n",
    "            print(f'{col} will be used in the sorting algorithm. It will be priority number {count}')\n",
    "            count+=1\n",
    "        elif col not in df.columns:\n",
    "            print(f'{col} is not a valid column. Please enter a valid column, or type exit to stop the programme.')\n",
    "    return cols_to_sort\n",
    "    \n",
    "for_sorting = add_cols()"
   ]
  },
  {
   "cell_type": "markdown",
   "metadata": {},
   "source": [
    "Any missing scores will be replaced with the average score of the dataset."
   ]
  },
  {
   "cell_type": "code",
   "execution_count": null,
   "metadata": {},
   "outputs": [],
   "source": [
    "df['total'].fillna(df['total'].mean(), inplace=True)"
   ]
  },
  {
   "cell_type": "markdown",
   "metadata": {},
   "source": [
    "Some exploratory data analysis in the next 2 cells"
   ]
  },
  {
   "cell_type": "code",
   "execution_count": null,
   "metadata": {},
   "outputs": [],
   "source": [
    "df['gender'].value_counts()"
   ]
  },
  {
   "cell_type": "code",
   "execution_count": null,
   "metadata": {},
   "outputs": [],
   "source": [
    "df['year of study'].value_counts()"
   ]
  },
  {
   "cell_type": "markdown",
   "metadata": {},
   "source": [
    "Take only the columns important to establishing the groups. "
   ]
  },
  {
   "cell_type": "code",
   "execution_count": null,
   "metadata": {},
   "outputs": [],
   "source": [
    "group_df = df[[ \n",
    "'student number',\n",
    "'year of study',\n",
    "'gender',\n",
    "'faculty',\n",
    "'total',\n",
    "'course',\n",
    "'personality type']]"
   ]
  },
  {
   "cell_type": "markdown",
   "metadata": {},
   "source": [
    "'email', \n",
    "'Course', \n",
    "'YearOfStudy',\n",
    "'Gender', \n",
    "'Bursary holder', \n",
    "'Client meetings delivery', \n",
    "'Total score',\n",
    "'Personality type'"
   ]
  },
  {
   "cell_type": "code",
   "execution_count": null,
   "metadata": {},
   "outputs": [],
   "source": [
    "group_df = group_df.assign(groupno='')\n"
   ]
  },
  {
   "cell_type": "markdown",
   "metadata": {},
   "source": [
    "\n",
    "#### The Sorting Algorithm"
   ]
  },
  {
   "cell_type": "code",
   "execution_count": null,
   "metadata": {},
   "outputs": [],
   "source": [
    "def assign_group(df):\n",
    "    df.sort_values(by=for_sorting, ascending=False, inplace=True)\n",
    "    count = 1\n",
    "    up = True\n",
    "    for i,row in group_df.iterrows():\n",
    "\n",
    "        if count <= round(len(df)/5,0) and up == True:\n",
    "            df.at[i,'groupno'] = count\n",
    "            count += 1\n",
    "\n",
    "        elif count > round(len(df)/5,0) and up == True:\n",
    "            df.at[i,'groupno'] = count-1\n",
    "            count-=1\n",
    "            up = False\n",
    "\n",
    "        if count > 1 and up == False:\n",
    "            df.at[i,'groupno'] = count\n",
    "            count -= 1\n",
    "            \n",
    "        elif count == 1 and up == False:\n",
    "            df.at[i,'groupno'] = count\n",
    "            up = True\n",
    "    \n",
    "    return df\n",
    "\n",
    "assigned = assign_group(group_df)\n",
    "\n",
    "    "
   ]
  },
  {
   "cell_type": "markdown",
   "metadata": {},
   "source": [
    "# Data Analysis"
   ]
  },
  {
   "cell_type": "code",
   "execution_count": 14,
   "metadata": {},
   "outputs": [
    {
     "ename": "NameError",
     "evalue": "name 'assigned' is not defined",
     "output_type": "error",
     "traceback": [
      "\u001b[0;31m---------------------------------------------------------------------------\u001b[0m",
      "\u001b[0;31mNameError\u001b[0m                                 Traceback (most recent call last)",
      "\u001b[0;32m/var/folders/x5/_wvzvfsx0cngmccfly1s8tfr0000gn/T/ipykernel_46833/1329229318.py\u001b[0m in \u001b[0;36m<module>\u001b[0;34m\u001b[0m\n\u001b[0;32m----> 1\u001b[0;31m \u001b[0massigned\u001b[0m\u001b[0;34m\u001b[0m\u001b[0;34m\u001b[0m\u001b[0m\n\u001b[0m",
      "\u001b[0;31mNameError\u001b[0m: name 'assigned' is not defined"
     ]
    }
   ],
   "source": [
    "assigned"
   ]
  },
  {
   "cell_type": "code",
   "execution_count": null,
   "metadata": {},
   "outputs": [],
   "source": [
    "assigned.groupby(['groupno'])[['total']].mean().round(2).min()"
   ]
  },
  {
   "cell_type": "code",
   "execution_count": null,
   "metadata": {},
   "outputs": [],
   "source": [
    "assigned.pivot_table(index=['groupno'], columns=['year of study'], aggfunc='size', fill_value=0)\n"
   ]
  },
  {
   "cell_type": "code",
   "execution_count": null,
   "metadata": {},
   "outputs": [],
   "source": [
    "assigned.pivot_table(index=['groupno'], columns=['gender'], aggfunc='size', fill_value=0)\n"
   ]
  },
  {
   "cell_type": "markdown",
   "metadata": {},
   "source": [
    "### Send the groups back into the original spreadsheet"
   ]
  },
  {
   "cell_type": "code",
   "execution_count": null,
   "metadata": {},
   "outputs": [],
   "source": [
    "subset = assigned[['student number','groupno']]\n",
    "\n",
    "final = pd.merge(df,subset, how='inner', on='student number')\n",
    "\n"
   ]
  },
  {
   "cell_type": "code",
   "execution_count": null,
   "metadata": {},
   "outputs": [],
   "source": [
    "book = openpyxl.load_workbook(filename)\n",
    "writer = pd.ExcelWriter(filename, engine = 'openpyxl')\n",
    "writer.book = book\n",
    "final.to_excel(writer, sheet_name='New Sheet Groups', index=False)\n",
    "writer.save()\n",
    "writer.close()"
   ]
  },
  {
   "cell_type": "markdown",
   "metadata": {},
   "source": [
    "## Make sure you download your new spreadsheet, you can copy and paste it into your previous working document."
   ]
  },
  {
   "cell_type": "code",
   "execution_count": null,
   "metadata": {},
   "outputs": [],
   "source": []
  }
 ],
 "metadata": {
  "interpreter": {
   "hash": "b9f9f96381215cdc1f58293df26af2bc2df5e1593a1ebac2eacc36573c706eeb"
  },
  "kernelspec": {
   "display_name": "Python 3",
   "language": "python",
   "name": "python3"
  },
  "language_info": {
   "codemirror_mode": {
    "name": "ipython",
    "version": 3
   },
   "file_extension": ".py",
   "mimetype": "text/x-python",
   "name": "python",
   "nbconvert_exporter": "python",
   "pygments_lexer": "ipython3",
   "version": "3.9.7"
  }
 },
 "nbformat": 4,
 "nbformat_minor": 2
}
