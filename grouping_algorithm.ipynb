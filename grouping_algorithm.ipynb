{
 "cells": [
  {
   "cell_type": "markdown",
   "metadata": {},
   "source": [
    "# QMUL Careers Team Python Script\n",
    "### A detailed guide on how to run this programme.\n",
    "\n"
   ]
  },
  {
   "cell_type": "markdown",
   "metadata": {},
   "source": [
    "Each text box describe what the code does in the cell below it."
   ]
  },
  {
   "cell_type": "markdown",
   "metadata": {},
   "source": [
    "The first cell imports some of the software that the programme needs, if you click the small play button above, or press Shift and Enter, it will run the cell."
   ]
  },
  {
   "cell_type": "code",
   "execution_count": null,
   "metadata": {},
   "outputs": [],
   "source": [
    "import pandas as pd\n",
    "import openpyxl\n",
    "from sys import platform\n",
    "import numpy as np\n"
   ]
  },
  {
   "cell_type": "markdown",
   "metadata": {},
   "source": [
    "We need the excel workbook that the programme will use, and within that the excel sheet with the student information. If you can name the sheet with the application information: \"data\" and save it on your computer.\n",
    "\n",
    "The video below shows how to add this to the programme."
   ]
  },
  {
   "cell_type": "code",
   "execution_count": null,
   "metadata": {},
   "outputs": [],
   "source": [
    "from IPython.display import Video; from ipywidgets import interactive, IntSlider\n",
    "\n",
    "vid = Video(filename=\"media/add_applications.mov\",data=\"\", width=800, height = 600)\n",
    "display(vid)\n",
    "\n"
   ]
  },
  {
   "cell_type": "markdown",
   "metadata": {},
   "source": [
    "Next double click \"grouping_script\" to open the python notebook."
   ]
  },
  {
   "cell_type": "code",
   "execution_count": null,
   "metadata": {},
   "outputs": [],
   "source": []
  },
  {
   "cell_type": "code",
   "execution_count": null,
   "metadata": {},
   "outputs": [],
   "source": [
    "filename = input('Enter the file name by copy and pasting the path.')"
   ]
  },
  {
   "cell_type": "markdown",
   "metadata": {},
   "source": []
  },
  {
   "cell_type": "code",
   "execution_count": null,
   "metadata": {},
   "outputs": [],
   "source": [
    "df = pd.read_excel(filename,\"data\")\n"
   ]
  },
  {
   "cell_type": "code",
   "execution_count": null,
   "metadata": {},
   "outputs": [],
   "source": [
    "df['Total score'].fillna(df['Total score'].mean(), inplace=True)"
   ]
  },
  {
   "cell_type": "code",
   "execution_count": null,
   "metadata": {},
   "outputs": [],
   "source": [
    "group_df = df[['email', 'Course', 'YearOfStudy',\n",
    "       'Gender', 'Bursary holder', 'Client meetings delivery', 'Total score',\n",
    "       'Personality type']]\n",
    "\n",
    "group_df = group_df.assign(groupno='')"
   ]
  },
  {
   "cell_type": "code",
   "execution_count": null,
   "metadata": {},
   "outputs": [],
   "source": [
    "group_df.sort_values(by=['Total score','YearOfStudy'], ascending=False, inplace=True)"
   ]
  },
  {
   "cell_type": "code",
   "execution_count": null,
   "metadata": {},
   "outputs": [],
   "source": []
  },
  {
   "cell_type": "code",
   "execution_count": null,
   "metadata": {},
   "outputs": [],
   "source": [
    "def assign_group(df):\n",
    "    count = 1\n",
    "    up = True\n",
    "    for i,row in group_df.iterrows():\n",
    "\n",
    "        if count <= round(len(df)/6,0) and up == True:\n",
    "            df.at[i,'groupno'] = count\n",
    "            count += 1\n",
    "\n",
    "        elif count > round(len(df)/6,0) and up == True:\n",
    "            df.at[i,'groupno'] = count-1\n",
    "            count-=1\n",
    "            up = False\n",
    "\n",
    "        if count > 1 and up == False:\n",
    "            df.at[i,'groupno'] = count\n",
    "            count -= 1\n",
    "        elif count == 1 and up == False:\n",
    "            df.at[i,'groupno'] = count\n",
    "            up = True\n",
    "    \n",
    "    return df\n",
    "\n",
    "new = assign_group(group_df)\n",
    "\n",
    "    "
   ]
  },
  {
   "cell_type": "code",
   "execution_count": null,
   "metadata": {},
   "outputs": [],
   "source": [
    "new.groupby('groupno').mean()"
   ]
  },
  {
   "cell_type": "code",
   "execution_count": null,
   "metadata": {},
   "outputs": [],
   "source": [
    "new.pivot_table(index=['groupno'], columns=['YearOfStudy'], aggfunc='size', fill_value=0)\n"
   ]
  },
  {
   "cell_type": "code",
   "execution_count": null,
   "metadata": {},
   "outputs": [],
   "source": [
    "new.pivot_table(index=['groupno'], columns=['Gender'], aggfunc='size', fill_value=0)\n"
   ]
  },
  {
   "cell_type": "code",
   "execution_count": null,
   "metadata": {},
   "outputs": [],
   "source": [
    "new['Gender'].value_counts()"
   ]
  },
  {
   "cell_type": "code",
   "execution_count": null,
   "metadata": {},
   "outputs": [],
   "source": [
    "book = openpyxl.load_workbook(filename)\n",
    "writer = pd.ExcelWriter(filename, engine = 'openpyxl')\n",
    "writer.book = book\n",
    "new.to_excel(writer, sheet_name='New Groups')\n",
    "writer.save()\n",
    "writer.close()"
   ]
  },
  {
   "cell_type": "code",
   "execution_count": null,
   "metadata": {},
   "outputs": [],
   "source": []
  },
  {
   "cell_type": "code",
   "execution_count": null,
   "metadata": {},
   "outputs": [],
   "source": []
  }
 ],
 "metadata": {
  "interpreter": {
   "hash": "b9f9f96381215cdc1f58293df26af2bc2df5e1593a1ebac2eacc36573c706eeb"
  },
  "kernelspec": {
   "display_name": "Python 3.8.8 64-bit ('base': conda)",
   "language": "python",
   "name": "python3"
  },
  "language_info": {
   "codemirror_mode": {
    "name": "ipython",
    "version": 3
   },
   "file_extension": ".py",
   "mimetype": "text/x-python",
   "name": "python",
   "nbconvert_exporter": "python",
   "pygments_lexer": "ipython3",
   "version": "3.9.7"
  },
  "orig_nbformat": 4
 },
 "nbformat": 4,
 "nbformat_minor": 2
}
