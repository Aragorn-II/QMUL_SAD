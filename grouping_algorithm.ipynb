{
 "cells": [
  {
   "cell_type": "markdown",
   "metadata": {},
   "source": [
    "# QMUL Careers Team Python Script\n",
    "### A detailed guide on how to run this programme.\n",
    "\n"
   ]
  },
  {
   "cell_type": "markdown",
   "metadata": {},
   "source": [
    "Each text box describe what the code does in the cell below it."
   ]
  },
  {
   "cell_type": "markdown",
   "metadata": {},
   "source": [
    "The first cell imports some of the software that the programme needs, if you click the small play button above, or press Shift and Enter, it will run the cell."
   ]
  },
  {
   "cell_type": "code",
   "execution_count": null,
   "metadata": {},
   "outputs": [],
   "source": [
    "import pandas as pd\n",
    "import openpyxl\n",
    "import numpy as np\n",
    "import os\n",
    "import ipywidgets as widgets"
   ]
  },
  {
   "cell_type": "markdown",
   "metadata": {},
   "source": [
    "We need the excel workbook that the programme will use, and within that the excel spreadsheet with the student information. Please name the spreadsheet with the application information: \"data\" and save it on your computer.\n",
    "\n",
    "The video below shows how to add this to the programme."
   ]
  },
  {
   "cell_type": "code",
   "execution_count": null,
   "metadata": {},
   "outputs": [],
   "source": [
    "from IPython.display import Video; from ipywidgets import interactive, IntSlider\n",
    "\n",
    "vid = Video(filename=\"media/add_applications.mov\",data=\"\", width=800, height = 600)\n",
    "display(vid)\n",
    "\n"
   ]
  },
  {
   "cell_type": "markdown",
   "metadata": {},
   "source": [
    "Next, point the programme at the excel sheet just uploaded."
   ]
  },
  {
   "cell_type": "code",
   "execution_count": null,
   "metadata": {},
   "outputs": [],
   "source": [
    "def get_sheet():\n",
    "    for file in os.listdir('.'):\n",
    "        if file.endswith(\".xlsx\"):\n",
    "            return file\n",
    "\n",
    "filename = get_sheet()"
   ]
  },
  {
   "cell_type": "markdown",
   "metadata": {},
   "source": [
    "Read the spreadsheet in, and perform some data cleaning."
   ]
  },
  {
   "cell_type": "code",
   "execution_count": null,
   "metadata": {},
   "outputs": [],
   "source": [
    "df = pd.read_excel(filename,\"data\")\n"
   ]
  },
  {
   "cell_type": "markdown",
   "metadata": {},
   "source": [
    "Any missing scores will be replaced with the average score of the dataset."
   ]
  },
  {
   "cell_type": "code",
   "execution_count": null,
   "metadata": {},
   "outputs": [],
   "source": [
    "df['Total score'].fillna(df['Total score'].mean(), inplace=True)"
   ]
  },
  {
   "cell_type": "markdown",
   "metadata": {},
   "source": [
    "Some exploratory data analysis in the next 2 cells"
   ]
  },
  {
   "cell_type": "code",
   "execution_count": null,
   "metadata": {},
   "outputs": [],
   "source": [
    "df['Gender'].value_counts()"
   ]
  },
  {
   "cell_type": "code",
   "execution_count": null,
   "metadata": {},
   "outputs": [],
   "source": [
    "df['YearOfStudy'].value_counts()"
   ]
  },
  {
   "cell_type": "markdown",
   "metadata": {},
   "source": [
    "Take only the columns important to establishing the groups. "
   ]
  },
  {
   "cell_type": "code",
   "execution_count": null,
   "metadata": {},
   "outputs": [],
   "source": [
    "group_df = df[[\n",
    "'email', \n",
    "'Course', \n",
    "'YearOfStudy',\n",
    "'Gender', \n",
    "'Bursary holder', \n",
    "'Client meetings delivery', \n",
    "'Total score',\n",
    "'Personality type']]"
   ]
  },
  {
   "cell_type": "markdown",
   "metadata": {},
   "source": [
    "'email', \n",
    "'Course', \n",
    "'YearOfStudy',\n",
    "'Gender', \n",
    "'Bursary holder', \n",
    "'Client meetings delivery', \n",
    "'Total score',\n",
    "'Personality type'"
   ]
  },
  {
   "cell_type": "code",
   "execution_count": null,
   "metadata": {},
   "outputs": [],
   "source": [
    "group_df = group_df.assign(groupno='')\n"
   ]
  },
  {
   "cell_type": "markdown",
   "metadata": {},
   "source": [
    "You can decide which variables you would like to prioritize your sort by."
   ]
  },
  {
   "cell_type": "code",
   "execution_count": null,
   "metadata": {},
   "outputs": [],
   "source": [
    "the_vars = widgets.SelectMultiple(\n",
    "    options=[\n",
    "'Course', \n",
    "'YearOfStudy',\n",
    "'Gender', \n",
    "'Bursary holder', \n",
    "'Client meetings delivery', \n",
    "'Personality type'],\n",
    "    value=['Gender'],\n",
    "    #rows=10,\n",
    "    description='Scores',\n",
    "    disabled=False\n",
    ")\n",
    "the_vars"
   ]
  },
  {
   "cell_type": "markdown",
   "metadata": {},
   "source": [
    "The script will always prioritise total score first and foremost."
   ]
  },
  {
   "cell_type": "code",
   "execution_count": null,
   "metadata": {},
   "outputs": [],
   "source": [
    "to_sort = list(the_vars.value)\n",
    "to_sort.insert(0,'Total score')"
   ]
  },
  {
   "cell_type": "markdown",
   "metadata": {},
   "source": [
    "\n",
    "#### The Sorting Algorithm"
   ]
  },
  {
   "cell_type": "code",
   "execution_count": null,
   "metadata": {},
   "outputs": [],
   "source": [
    "def assign_group(df):\n",
    "    df.sort_values(by=to_sort, ascending=False, inplace=True)\n",
    "    count = 1\n",
    "    up = True\n",
    "    for i,row in group_df.iterrows():\n",
    "\n",
    "        if count <= round(len(df)/6,0) and up == True:\n",
    "            df.at[i,'groupno'] = count\n",
    "            count += 1\n",
    "\n",
    "        elif count > round(len(df)/6,0) and up == True:\n",
    "            df.at[i,'groupno'] = count-1\n",
    "            count-=1\n",
    "            up = False\n",
    "\n",
    "        if count > 1 and up == False:\n",
    "            df.at[i,'groupno'] = count\n",
    "            count -= 1\n",
    "        elif count == 1 and up == False:\n",
    "            df.at[i,'groupno'] = count\n",
    "            up = True\n",
    "    \n",
    "    return df\n",
    "\n",
    "assigned = assign_group(group_df)\n",
    "\n",
    "    "
   ]
  },
  {
   "cell_type": "markdown",
   "metadata": {},
   "source": [
    "More data analysis for the different groups"
   ]
  },
  {
   "cell_type": "code",
   "execution_count": null,
   "metadata": {},
   "outputs": [],
   "source": [
    "assigned.groupby('groupno').mean()"
   ]
  },
  {
   "cell_type": "code",
   "execution_count": null,
   "metadata": {},
   "outputs": [],
   "source": [
    "assigned.pivot_table(index=['groupno'], columns=['YearOfStudy'], aggfunc='size', fill_value=0)\n"
   ]
  },
  {
   "cell_type": "code",
   "execution_count": null,
   "metadata": {},
   "outputs": [],
   "source": [
    "assigned.pivot_table(index=['groupno'], columns=['Gender'], aggfunc='size', fill_value=0)\n"
   ]
  },
  {
   "cell_type": "markdown",
   "metadata": {},
   "source": [
    "### Send the groups back into the original spreadsheet"
   ]
  },
  {
   "cell_type": "code",
   "execution_count": null,
   "metadata": {},
   "outputs": [],
   "source": [
    "subset = assigned[['email','groupno']]\n",
    "\n",
    "final = pd.merge(df,subset, how='inner', on='email')\n",
    "\n"
   ]
  },
  {
   "cell_type": "markdown",
   "metadata": {},
   "source": [
    "Write them into the spreadsheet."
   ]
  },
  {
   "cell_type": "code",
   "execution_count": null,
   "metadata": {},
   "outputs": [],
   "source": [
    "book = openpyxl.load_workbook(filename)\n",
    "writer = pd.ExcelWriter(filename, engine = 'openpyxl')\n",
    "writer.book = book\n",
    "final.to_excel(writer, sheet_name='New Sheet Groups')\n",
    "writer.save()\n",
    "writer.close()"
   ]
  },
  {
   "cell_type": "markdown",
   "metadata": {},
   "source": [
    "## Make sure you download your new spreadsheet, you can copy and paste it into your previous working document."
   ]
  },
  {
   "cell_type": "code",
   "execution_count": null,
   "metadata": {},
   "outputs": [],
   "source": []
  }
 ],
 "metadata": {
  "interpreter": {
   "hash": "b9f9f96381215cdc1f58293df26af2bc2df5e1593a1ebac2eacc36573c706eeb"
  },
  "kernelspec": {
   "display_name": "Python 3.8.8 64-bit ('base': conda)",
   "language": "python",
   "name": "python3"
  },
  "language_info": {
   "codemirror_mode": {
    "name": "ipython",
    "version": 3
   },
   "file_extension": ".py",
   "mimetype": "text/x-python",
   "name": "python",
   "nbconvert_exporter": "python",
   "pygments_lexer": "ipython3",
   "version": "3.9.7"
  },
  "orig_nbformat": 4
 },
 "nbformat": 4,
 "nbformat_minor": 2
}
